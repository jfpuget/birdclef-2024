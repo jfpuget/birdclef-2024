{
 "cells": [
  {
   "cell_type": "code",
   "execution_count": null,
   "id": "26fce75d",
   "metadata": {},
   "outputs": [],
   "source": [
    "import os\n",
    "from pathlib import Path\n",
    "from types import SimpleNamespace\n",
    "\n",
    "cfg = SimpleNamespace(**{})\n",
    "cfg.num_folds = 5\n",
    "cfg.gpu = \"7\"\n",
    "\n",
    "cfg.seed = 2024\n",
    "\n",
    "cfg.input_path = Path('../input')\n",
    "cfg.comp_data_path = cfg.input_path / 'birdclef-2024'\n",
    "cfg.save_path = Path('../checkpoints')\n",
    "\n",
    "cfg.logger_file = True\n",
    "\n",
    "\n",
    "cfg.sr = 32000"
   ]
  },
  {
   "cell_type": "code",
   "execution_count": null,
   "id": "6d65f651",
   "metadata": {},
   "outputs": [],
   "source": [
    "import numpy as np\n",
    "import pandas as pd\n",
    "import matplotlib.pyplot as plt\n",
    "import random\n",
    "from tqdm import tqdm\n",
    "from logging import getLogger, INFO, StreamHandler, FileHandler, Formatter\n",
    "import gc\n",
    "import pickle as pkl\n",
    "\n",
    "import librosa\n",
    "\n",
    "from torch.utils.data import DataLoader, Dataset\n",
    "import torchaudio\n",
    "import torchaudio.transforms as T\n",
    "#import torch_audiomentations as tA\n",
    "\n",
    "import torch\n",
    "import torch.nn as nn\n",
    "import torch.nn.functional as F\n",
    "from torch.cuda.amp import autocast, GradScaler\n",
    "from torch.optim import lr_scheduler, Adam, AdamW\n",
    "\n",
    "import timm\n",
    "\n",
    "from glob import glob"
   ]
  },
  {
   "cell_type": "code",
   "execution_count": null,
   "id": "ac6e101a",
   "metadata": {},
   "outputs": [],
   "source": [
    "cfg.device = torch.device('cuda')"
   ]
  },
  {
   "cell_type": "code",
   "execution_count": null,
   "id": "13980dfb",
   "metadata": {
    "scrolled": true
   },
   "outputs": [],
   "source": [
    "train = pd.read_csv(cfg.comp_data_path / 'train_metadata.csv')\n",
    "train"
   ]
  },
  {
   "cell_type": "code",
   "execution_count": null,
   "id": "155c275c",
   "metadata": {},
   "outputs": [],
   "source": [
    "def load_audio(filename, cfg):\n",
    "    filepath = cfg.comp_data_path / 'train_audio' / filename\n",
    "    audio = librosa.load(filepath, sr=cfg.sr)[0].astype(np.float32)\n",
    "    return audio"
   ]
  },
  {
   "cell_type": "code",
   "execution_count": null,
   "id": "fa2cf0f3",
   "metadata": {},
   "outputs": [],
   "source": [
    "load_audio('asbfly/XC134896.ogg', cfg)"
   ]
  },
  {
   "cell_type": "code",
   "execution_count": null,
   "id": "fc57bbfa",
   "metadata": {},
   "outputs": [],
   "source": [
    "! mkdir ../input/birdclef_data"
   ]
  },
  {
   "cell_type": "code",
   "execution_count": null,
   "id": "f3411817",
   "metadata": {},
   "outputs": [],
   "source": [
    "dirnames = []\n",
    "lengths = []\n",
    "for fname in tqdm(train.filename):\n",
    "    audio = load_audio(fname, cfg)\n",
    "    file = fname.split('/')[-1].split('.')[0]\n",
    "    dirname = fname.split('/')[0]\n",
    "    save_path = cfg.input_path / 'birdclef_data' / dirname\n",
    "    #if dirname not in dirnames:\n",
    "    #    save_path.mkdir()\n",
    "    #    dirnames.append(dirname)\n",
    "    np.save(save_path / ('first10_' + file), audio[: 10 * cfg.sr])\n",
    "    np.save(save_path / ('last10_' + file), audio[-10 * cfg.sr : ])\n",
    "    lengths.append(audio.shape[0])"
   ]
  },
  {
   "cell_type": "code",
   "execution_count": null,
   "id": "2d0f9a95",
   "metadata": {},
   "outputs": [],
   "source": [
    "_ = plt.hist(np.array(lengths) / cfg.sr, bins=100, log=True)"
   ]
  },
  {
   "cell_type": "code",
   "execution_count": null,
   "id": "da43ede6",
   "metadata": {},
   "outputs": [],
   "source": [
    "! mkdir ../input/birdclef_data/unlabeled_soundscapes"
   ]
  },
  {
   "cell_type": "code",
   "execution_count": null,
   "id": "75a29d85",
   "metadata": {},
   "outputs": [],
   "source": [
    "def load_soundscape(pathname, cfg):\n",
    "    audio = librosa.load(pathname, sr=32000)[0].astype(np.float32)\n",
    "    return audio"
   ]
  },
  {
   "cell_type": "code",
   "execution_count": null,
   "id": "e4d268b8",
   "metadata": {},
   "outputs": [],
   "source": [
    "savepath = cfg.input_path / 'birdclef_data' / 'unlabeled_soundscapes'\n",
    "for pathname in (tqdm(glob(str(cfg.comp_data_path / 'unlabeled_soundscapes/*.ogg')))):\n",
    "    filename = pathname.split('/')[-1].split('.')[0]\n",
    "    waveform = load_soundscape(pathname, cfg)\n",
    "    np.save(savepath / filename, waveform)\n"
   ]
  },
  {
   "cell_type": "code",
   "execution_count": null,
   "id": "dd26665a",
   "metadata": {},
   "outputs": [],
   "source": [
    "train[train.primary_label == 'integr']"
   ]
  },
  {
   "cell_type": "code",
   "execution_count": null,
   "id": "eebbf8a5",
   "metadata": {},
   "outputs": [],
   "source": [
    "train[train.primary_label == 'blaeag1']"
   ]
  },
  {
   "cell_type": "code",
   "execution_count": null,
   "id": "a690365f",
   "metadata": {},
   "outputs": [],
   "source": []
  }
 ],
 "metadata": {
  "kernelspec": {
   "display_name": "Python 3 (ipykernel)",
   "language": "python",
   "name": "python3"
  },
  "language_info": {
   "codemirror_mode": {
    "name": "ipython",
    "version": 3
   },
   "file_extension": ".py",
   "mimetype": "text/x-python",
   "name": "python",
   "nbconvert_exporter": "python",
   "pygments_lexer": "ipython3",
   "version": "3.10.12"
  }
 },
 "nbformat": 4,
 "nbformat_minor": 5
}
