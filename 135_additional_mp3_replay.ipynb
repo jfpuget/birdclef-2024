{
 "cells": [
  {
   "cell_type": "code",
   "execution_count": null,
   "id": "f62fa6b3",
   "metadata": {},
   "outputs": [],
   "source": [
    "import os\n",
    "from pathlib import Path\n",
    "from types import SimpleNamespace\n",
    "\n",
    "cfg = SimpleNamespace(**{})\n",
    "cfg.num_folds = 5\n",
    "cfg.gpu = \"7\"\n",
    "\n",
    "cfg.fname = 'hms_102'\n",
    "cfg.seed = 2024\n",
    "\n",
    "cfg.input_path = Path('../input')\n",
    "cfg.comp_data_path = cfg.input_path / 'birdclef-2024'\n",
    "cfg.additional_data_path = cfg.input_path / 'birdclef2024-additional-mp3' / 'additional_audio'\n",
    "cfg.save_path = Path('../checkpoints')\n",
    "\n",
    "cfg.logger_file = True\n",
    "\n",
    "\n",
    "cfg.sr = 32000"
   ]
  },
  {
   "cell_type": "code",
   "execution_count": null,
   "id": "0e38872e",
   "metadata": {},
   "outputs": [],
   "source": [
    "import numpy as np\n",
    "import pandas as pd\n",
    "import matplotlib.pyplot as plt\n",
    "import random\n",
    "from tqdm import tqdm\n",
    "from logging import getLogger, INFO, StreamHandler, FileHandler, Formatter\n",
    "import gc\n",
    "import pickle as pkl\n",
    "\n",
    "import librosa\n",
    "\n",
    "from torch.utils.data import DataLoader, Dataset\n",
    "import torchaudio\n",
    "import torchaudio.transforms as T\n",
    "#import torch_audiomentations as tA\n",
    "\n",
    "import torch\n",
    "import torch.nn as nn\n",
    "import torch.nn.functional as F\n",
    "from torch.cuda.amp import autocast, GradScaler\n",
    "from torch.optim import lr_scheduler, Adam, AdamW\n",
    "\n",
    "import timm\n",
    "\n",
    "from glob import glob"
   ]
  },
  {
   "cell_type": "code",
   "execution_count": null,
   "id": "63e47306",
   "metadata": {},
   "outputs": [],
   "source": [
    "cfg.device = torch.device('cuda')"
   ]
  },
  {
   "cell_type": "code",
   "execution_count": null,
   "id": "02a78010",
   "metadata": {},
   "outputs": [],
   "source": [
    "file_paths = glob(str(cfg.additional_data_path) + \"/*/*\")\n",
    "len(file_paths), file_paths[:5]"
   ]
  },
  {
   "cell_type": "code",
   "execution_count": null,
   "id": "fc36ebe4",
   "metadata": {},
   "outputs": [],
   "source": [
    "train_additional = pd.DataFrame({\n",
    "    'filename' : ['/'.join(filepath.split('/')[-2:]) for filepath in file_paths],\n",
    "    'species' : [filepath.split('/')[-2] for filepath in file_paths],\n",
    "    'record' : [filepath.split('/')[-1] for filepath in file_paths],\n",
    "    'filepath': file_paths,\n",
    "})\n",
    "train_additional"
   ]
  },
  {
   "cell_type": "code",
   "execution_count": null,
   "id": "7e513185",
   "metadata": {},
   "outputs": [],
   "source": [
    "train = pd.read_csv(cfg.comp_data_path / 'train_metadata.csv')\n",
    "train\n",
    "\n",
    "train['species'] = [filename.split('/')[0] for filename in train.filename]\n",
    "train['record'] = [filename.split('/')[1] for filename in train.filename]\n"
   ]
  },
  {
   "cell_type": "code",
   "execution_count": null,
   "id": "518413fa",
   "metadata": {},
   "outputs": [],
   "source": [
    "df = train.groupby('species').size()\n",
    "df"
   ]
  },
  {
   "cell_type": "code",
   "execution_count": null,
   "id": "4e36d514",
   "metadata": {},
   "outputs": [],
   "source": [
    "df1 = train_additional.groupby('species').size()\n",
    "df1"
   ]
  },
  {
   "cell_type": "code",
   "execution_count": null,
   "id": "11ecabb5",
   "metadata": {},
   "outputs": [],
   "source": [
    "df = pd.concat([df, df1], axis=1)\n",
    "df.columns = ['train', 'additional']\n",
    "df"
   ]
  },
  {
   "cell_type": "code",
   "execution_count": null,
   "id": "e36ddf38",
   "metadata": {},
   "outputs": [],
   "source": [
    "df0 = df[df.train < 500].copy()"
   ]
  },
  {
   "cell_type": "code",
   "execution_count": null,
   "id": "c6ba5314",
   "metadata": {},
   "outputs": [],
   "source": [
    "_ = plt.scatter(df0.train, df0.additional, marker='+')"
   ]
  },
  {
   "cell_type": "code",
   "execution_count": null,
   "id": "ec925a65",
   "metadata": {},
   "outputs": [],
   "source": [
    "train_additional = train_additional[train_additional.species.isin(set(df0.index))]\n",
    "train_additional"
   ]
  },
  {
   "cell_type": "code",
   "execution_count": null,
   "id": "fc7bcab0",
   "metadata": {},
   "outputs": [],
   "source": [
    "train_additional.to_csv(cfg.comp_data_path / 'train_additional.csv', index=None)"
   ]
  },
  {
   "cell_type": "code",
   "execution_count": null,
   "id": "c8fd0da7",
   "metadata": {},
   "outputs": [],
   "source": []
  }
 ],
 "metadata": {
  "kernelspec": {
   "display_name": "Python 3 (ipykernel)",
   "language": "python",
   "name": "python3"
  },
  "language_info": {
   "codemirror_mode": {
    "name": "ipython",
    "version": 3
   },
   "file_extension": ".py",
   "mimetype": "text/x-python",
   "name": "python",
   "nbconvert_exporter": "python",
   "pygments_lexer": "ipython3",
   "version": "3.10.12"
  }
 },
 "nbformat": 4,
 "nbformat_minor": 5
}
