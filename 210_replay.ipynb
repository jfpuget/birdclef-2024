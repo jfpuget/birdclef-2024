{
 "cells": [
  {
   "cell_type": "code",
   "execution_count": null,
   "id": "9db8e8f1",
   "metadata": {},
   "outputs": [],
   "source": [
    "import numpy as np\n",
    "import pandas as pd"
   ]
  },
  {
   "cell_type": "code",
   "execution_count": null,
   "id": "6502b0bb",
   "metadata": {},
   "outputs": [],
   "source": [
    "cols = ['primary_label', 'secondary_labels', 'record_name', 'source']\n"
   ]
  },
  {
   "cell_type": "code",
   "execution_count": null,
   "id": "400d2f33",
   "metadata": {},
   "outputs": [],
   "source": [
    "train = pd.read_csv('../input/birdclef-2024/train_metadata.csv')\n",
    "train\n",
    "\n",
    "train['record'] = [filename.split('/')[1] for filename in train.filename]\n",
    "train['record_name'] = [record.split('.')[0] for record in train.record]\n",
    "\n",
    "train['secondary_labels'] = [eval(secondary_labels) for secondary_labels in train['secondary_labels']]\n",
    "train['source'] = 'bc24'\n",
    "train[cols]"
   ]
  },
  {
   "cell_type": "code",
   "execution_count": null,
   "id": "93a46b30",
   "metadata": {},
   "outputs": [],
   "source": [
    "train_additional = pd.read_csv('../input/birdclef-2024/train_additional.csv')\n",
    "train_additional\n",
    "train_additional['source'] = 'bc00'\n",
    "train_additional['record_name'] = [record.split('.')[0] for record in train_additional.record]\n",
    "train_additional['primary_label'] = train_additional['species']\n",
    "train_additional['secondary_labels'] = [[] for _ in train_additional['primary_label']]\n",
    "train_additional = train_additional[~train_additional.record_name.isin(train.record_name.unique())].reset_index(drop=True)\n",
    "train_additional[cols]"
   ]
  },
  {
   "cell_type": "code",
   "execution_count": null,
   "id": "47671935",
   "metadata": {},
   "outputs": [],
   "source": [
    "train_20 = pd.read_csv('../input/Birdclef20/train.csv')\n",
    "train_20\n",
    "\n",
    "train_20['record_name'] = [record.split('.')[0] for record in train_20.filename]\n",
    "train_20['primary_label'] = train_20['ebird_code']\n",
    "train_20['source'] = 'bc20'\n",
    "train_20 = train_20[~train_20.record_name.isin(train.record_name.unique())].reset_index(drop=True)\n",
    "train_20 = train_20[train_20.primary_label.isin(train.primary_label.unique())].reset_index(drop=True)\n",
    "train_20[cols]"
   ]
  },
  {
   "cell_type": "code",
   "execution_count": null,
   "id": "41279bc2",
   "metadata": {},
   "outputs": [],
   "source": [
    "df = train_20[['species', 'ebird_code']].drop_duplicates().sort_values('species').reset_index(drop=True)\n",
    "df\n",
    "\n",
    "species2code = {species : code for species, code in zip(df.species, df.ebird_code)}\n",
    "species2code\n",
    "\n",
    "def process_secondary_labels(secondary_labels, species2code):\n",
    "    secondary_labels = eval(secondary_labels)\n",
    "    labels = []\n",
    "    for secondary in secondary_labels:\n",
    "        label = species2code.get(secondary.split('_')[1], '')\n",
    "        if label != '':\n",
    "            labels.append(label)\n",
    "    return labels\n",
    "\n",
    "train_20['secondary_labels'] = [process_secondary_labels(secondary_labels, species2code) for secondary_labels in train_20['secondary_labels']]"
   ]
  },
  {
   "cell_type": "code",
   "execution_count": null,
   "id": "e5cf3441",
   "metadata": {},
   "outputs": [],
   "source": [
    "train_21 = pd.read_csv('../input/Birdclef21/train_metadata.csv')\n",
    "train_21\n",
    "train_21['secondary_labels'] = [eval(secondary_labels) for secondary_labels in train_21['secondary_labels']]\n",
    "train_21['record_name'] = [record.split('.')[0] for record in train_21.filename]\n",
    "train_21['source'] = 'bc21'\n",
    "train_21 = train_21[~train_21.record_name.isin(train.record_name.unique())].reset_index(drop=True)\n",
    "train_21 = train_21[train_21.primary_label.isin(train.primary_label.unique())].reset_index(drop=True)\n",
    "train_21[cols]"
   ]
  },
  {
   "cell_type": "code",
   "execution_count": null,
   "id": "73ed1735",
   "metadata": {},
   "outputs": [],
   "source": [
    "train_22 = pd.read_csv('../input/Birdclef22/train_metadata.csv')\n",
    "train_22['secondary_labels'] = [eval(secondary_labels) for secondary_labels in train_22['secondary_labels']]\n",
    "train_22['record_name'] = [record.split('/')[1].split('.')[0] for record in train_22.filename]\n",
    "train_22['source'] = 'bc22'\n",
    "train_22 = train_22[~train_22.record_name.isin(train.record_name.unique())].reset_index(drop=True)\n",
    "train_22 = train_22[train_22.primary_label.isin(train.primary_label.unique())].reset_index(drop=True)\n",
    "train_22[cols]"
   ]
  },
  {
   "cell_type": "code",
   "execution_count": null,
   "id": "c23cd600",
   "metadata": {},
   "outputs": [],
   "source": [
    "train_23 = pd.read_csv('../input/Birdclef23/train_metadata.csv')\n",
    "train_23['secondary_labels'] = [eval(secondary_labels) for secondary_labels in train_23['secondary_labels']]\n",
    "train_23['record_name'] = [record.split('/')[1].split('.')[0] for record in train_23.filename]\n",
    "train_23['source'] = 'bc23'\n",
    "train_23 = train_23[~train_23.record_name.isin(train.record_name.unique())].reset_index(drop=True)\n",
    "train_23 = train_23[train_23.primary_label.isin(train.primary_label.unique())].reset_index(drop=True)\n",
    "train_23[cols]"
   ]
  },
  {
   "cell_type": "code",
   "execution_count": null,
   "id": "b765b904",
   "metadata": {},
   "outputs": [],
   "source": [
    "all_train = pd.concat([train_20[cols], \n",
    "                       train_21[cols], \n",
    "                       train_22[cols], \n",
    "                       train_23[cols],\n",
    "                       train_additional[cols],\n",
    "                       train[cols],\n",
    "                       ]).reset_index(drop=True)\n",
    "all_train"
   ]
  },
  {
   "cell_type": "code",
   "execution_count": null,
   "id": "7b15eea9",
   "metadata": {},
   "outputs": [],
   "source": [
    "all_train = all_train.sort_values(['primary_label', 'source'], ascending=False).reset_index(drop=True)\n",
    "all_train = all_train.drop_duplicates('record_name')\n",
    "all_train['rank'] = all_train.groupby('primary_label').source.rank(method='first', ascending=False)\n",
    "all_train"
   ]
  },
  {
   "cell_type": "code",
   "execution_count": null,
   "id": "8120ce4f",
   "metadata": {},
   "outputs": [],
   "source": [
    "all_train.source.value_counts()"
   ]
  },
  {
   "cell_type": "code",
   "execution_count": null,
   "id": "e62c4916",
   "metadata": {},
   "outputs": [],
   "source": [
    "all_train = all_train[all_train.source != 'bc24'].reset_index(drop=True)\n",
    "all_train\n",
    "\n",
    "all_train = all_train[all_train['rank'] <= 500].reset_index(drop=True)\n",
    "all_train\n",
    "\n"
   ]
  },
  {
   "cell_type": "code",
   "execution_count": null,
   "id": "2d0448c4",
   "metadata": {},
   "outputs": [],
   "source": [
    "all_train.to_csv('../input/birdclef-2024/all_train.csv', index=False)"
   ]
  },
  {
   "cell_type": "code",
   "execution_count": null,
   "id": "0d8f595f",
   "metadata": {},
   "outputs": [],
   "source": [
    "from pathlib import Path\n",
    "from tqdm import tqdm\n",
    "import librosa\n",
    "sr = 32000\n",
    "\n",
    "def load_audio(record_name, primary_label, source):\n",
    "    if source == 'bc20':\n",
    "        pathname = Path('../input/Birdclef20/train_audio/') / primary_label / (record_name + '.mp3')\n",
    "    elif source == 'bc21':\n",
    "        pathname = Path('../input/Birdclef21/train_short_audio/') / primary_label / (record_name + '.ogg')\n",
    "    elif source == 'bc22':\n",
    "        pathname = Path('../input/Birdclef22/train_audio/') / primary_label / (record_name + '.ogg')\n",
    "    elif source == 'bc23':\n",
    "        pathname = Path('../input/Birdclef23/train_audio/') / primary_label / (record_name + '.ogg')\n",
    "    elif source == 'bc00':\n",
    "        pathname = Path('../input/birdclef2024-additional-mp3/additional_audio/') / primary_label / (record_name + '.mp3')\n",
    "    audio = librosa.load(pathname, sr=32000)[0].astype(np.float32)\n",
    "    return audio"
   ]
  },
  {
   "cell_type": "code",
   "execution_count": null,
   "id": "4f0f5737",
   "metadata": {},
   "outputs": [],
   "source": [
    "lengths = []\n",
    "for record_name, primary_label, source in zip(tqdm(all_train.record_name), all_train.primary_label, all_train.source):\n",
    "    if source in ['bc00', 'bc20', 'bc21', 'bc22', 'bc23']:\n",
    "        audio = load_audio(record_name, primary_label, source)\n",
    "        lengths.append(len(audio))\n",
    "        save_path = Path('../input') / 'birdclef_data' / primary_label\n",
    "        np.save(save_path / ('first10_' + record_name), audio[: 10 * sr])\n",
    "        np.save(save_path / ('last10_' + record_name), audio[-10 * sr : ])"
   ]
  },
  {
   "cell_type": "code",
   "execution_count": null,
   "id": "a0a0a101",
   "metadata": {},
   "outputs": [],
   "source": [
    "len(lengths)"
   ]
  },
  {
   "cell_type": "code",
   "execution_count": null,
   "id": "ef23def3",
   "metadata": {},
   "outputs": [],
   "source": []
  }
 ],
 "metadata": {
  "kernelspec": {
   "display_name": "Python 3 (ipykernel)",
   "language": "python",
   "name": "python3"
  },
  "language_info": {
   "codemirror_mode": {
    "name": "ipython",
    "version": 3
   },
   "file_extension": ".py",
   "mimetype": "text/x-python",
   "name": "python",
   "nbconvert_exporter": "python",
   "pygments_lexer": "ipython3",
   "version": "3.10.12"
  }
 },
 "nbformat": 4,
 "nbformat_minor": 5
}
